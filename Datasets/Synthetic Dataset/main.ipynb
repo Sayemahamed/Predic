{
 "cells": [
  {
   "cell_type": "code",
   "execution_count": null,
   "id": "59e58052",
   "metadata": {},
   "outputs": [
    {
     "data": {
      "text/html": [
       "<div>\n",
       "<style scoped>\n",
       "    .dataframe tbody tr th:only-of-type {\n",
       "        vertical-align: middle;\n",
       "    }\n",
       "\n",
       "    .dataframe tbody tr th {\n",
       "        vertical-align: top;\n",
       "    }\n",
       "\n",
       "    .dataframe thead th {\n",
       "        text-align: right;\n",
       "    }\n",
       "</style>\n",
       "<table border=\"1\" class=\"dataframe\">\n",
       "  <thead>\n",
       "    <tr style=\"text-align: right;\">\n",
       "      <th></th>\n",
       "      <th>created_at</th>\n",
       "      <th>model</th>\n",
       "      <th>messages</th>\n",
       "      <th>recommended</th>\n",
       "      <th>upvoted</th>\n",
       "    </tr>\n",
       "  </thead>\n",
       "  <tbody>\n",
       "    <tr>\n",
       "      <th>0</th>\n",
       "      <td>2025-01-06 05:09:57.778612</td>\n",
       "      <td>Qwen/Qwen2.5-Coder-32B-Instruct</td>\n",
       "      <td>[{'role': 'system', 'content': '\n",
       "You are an ex...</td>\n",
       "      <td>False</td>\n",
       "      <td>True</td>\n",
       "    </tr>\n",
       "    <tr>\n",
       "      <th>1</th>\n",
       "      <td>2025-01-06 05:10:24.921776</td>\n",
       "      <td>Qwen/Qwen2.5-Coder-32B-Instruct</td>\n",
       "      <td>[{'role': 'system', 'content': '\n",
       "You are an ex...</td>\n",
       "      <td>False</td>\n",
       "      <td>True</td>\n",
       "    </tr>\n",
       "    <tr>\n",
       "      <th>2</th>\n",
       "      <td>2025-01-06 05:10:27.416954</td>\n",
       "      <td>Qwen/Qwen2.5-Coder-32B-Instruct</td>\n",
       "      <td>[{'role': 'system', 'content': '\n",
       "You are an ex...</td>\n",
       "      <td>False</td>\n",
       "      <td>True</td>\n",
       "    </tr>\n",
       "    <tr>\n",
       "      <th>3</th>\n",
       "      <td>2025-01-06 05:10:35.522826</td>\n",
       "      <td>Qwen/Qwen2.5-Coder-32B-Instruct</td>\n",
       "      <td>[{'role': 'system', 'content': '\n",
       "You are an ex...</td>\n",
       "      <td>False</td>\n",
       "      <td>True</td>\n",
       "    </tr>\n",
       "    <tr>\n",
       "      <th>4</th>\n",
       "      <td>2025-01-06 05:11:06.454243</td>\n",
       "      <td>Qwen/Qwen2.5-Coder-32B-Instruct</td>\n",
       "      <td>[{'role': 'system', 'content': '\n",
       "You are an ex...</td>\n",
       "      <td>False</td>\n",
       "      <td>True</td>\n",
       "    </tr>\n",
       "  </tbody>\n",
       "</table>\n",
       "</div>"
      ],
      "text/plain": [
       "                   created_at                            model  \\\n",
       "0  2025-01-06 05:09:57.778612  Qwen/Qwen2.5-Coder-32B-Instruct   \n",
       "1  2025-01-06 05:10:24.921776  Qwen/Qwen2.5-Coder-32B-Instruct   \n",
       "2  2025-01-06 05:10:27.416954  Qwen/Qwen2.5-Coder-32B-Instruct   \n",
       "3  2025-01-06 05:10:35.522826  Qwen/Qwen2.5-Coder-32B-Instruct   \n",
       "4  2025-01-06 05:11:06.454243  Qwen/Qwen2.5-Coder-32B-Instruct   \n",
       "\n",
       "                                            messages  recommended  upvoted  \n",
       "0  [{'role': 'system', 'content': '\n",
       "You are an ex...        False     True  \n",
       "1  [{'role': 'system', 'content': '\n",
       "You are an ex...        False     True  \n",
       "2  [{'role': 'system', 'content': '\n",
       "You are an ex...        False     True  \n",
       "3  [{'role': 'system', 'content': '\n",
       "You are an ex...        False     True  \n",
       "4  [{'role': 'system', 'content': '\n",
       "You are an ex...        False     True  "
      ]
     },
     "execution_count": 8,
     "metadata": {},
     "output_type": "execute_result"
    }
   ],
   "source": [
    "from datasets import load_dataset\n",
    "import pandas as pd\n",
    "from rich import print"
   ]
  },
  {
   "cell_type": "code",
   "execution_count": 9,
   "id": "2dae85ad",
   "metadata": {},
   "outputs": [],
   "source": [
    "synthetic_dataset = pd.DataFrame(columns=[\"user prompt\", \"context\", \"code\"])"
   ]
  },
  {
   "cell_type": "code",
   "execution_count": 10,
   "id": "d73cc0ed",
   "metadata": {},
   "outputs": [],
   "source": [
    "temp = pd.DataFrame(dta[\"messages\"])"
   ]
  },
  {
   "cell_type": "code",
   "execution_count": 11,
   "id": "cba85cc2",
   "metadata": {},
   "outputs": [],
   "source": [
    "temp[\"code\"] = temp[\"messages\"].apply(lambda x: x[2])"
   ]
  },
  {
   "cell_type": "code",
   "execution_count": 12,
   "id": "6a324990",
   "metadata": {},
   "outputs": [
    {
     "data": {
      "text/html": [
       "<pre style=\"white-space:pre;overflow-x:auto;line-height:normal;font-family:Menlo,'DejaVu Sans Mono',consolas,'Courier New',monospace\"><span style=\"color: #008080; text-decoration-color: #008080; font-weight: bold\">74428</span>\n",
       "</pre>\n"
      ],
      "text/plain": [
       "\u001b[1;36m74428\u001b[0m\n"
      ]
     },
     "metadata": {},
     "output_type": "display_data"
    },
    {
     "data": {
      "text/html": [
       "<pre style=\"white-space:pre;overflow-x:auto;line-height:normal;font-family:Menlo,'DejaVu Sans Mono',consolas,'Courier New',monospace\"><span style=\"color: #008080; text-decoration-color: #008080; font-weight: bold\">74428</span>\n",
       "</pre>\n"
      ],
      "text/plain": [
       "\u001b[1;36m74428\u001b[0m\n"
      ]
     },
     "metadata": {},
     "output_type": "display_data"
    }
   ],
   "source": [
    "print(temp[\"code\"].count())\n",
    "print(temp[\"messages\"].count())"
   ]
  },
  {
   "cell_type": "code",
   "execution_count": 13,
   "id": "08168f39",
   "metadata": {},
   "outputs": [
    {
     "data": {
      "text/html": [
       "<div>\n",
       "<style scoped>\n",
       "    .dataframe tbody tr th:only-of-type {\n",
       "        vertical-align: middle;\n",
       "    }\n",
       "\n",
       "    .dataframe tbody tr th {\n",
       "        vertical-align: top;\n",
       "    }\n",
       "\n",
       "    .dataframe thead th {\n",
       "        text-align: right;\n",
       "    }\n",
       "</style>\n",
       "<table border=\"1\" class=\"dataframe\">\n",
       "  <thead>\n",
       "    <tr style=\"text-align: right;\">\n",
       "      <th></th>\n",
       "      <th>messages</th>\n",
       "      <th>code</th>\n",
       "    </tr>\n",
       "  </thead>\n",
       "  <tbody>\n",
       "    <tr>\n",
       "      <th>0</th>\n",
       "      <td>[{'role': 'system', 'content': '\n",
       "You are an ex...</td>\n",
       "      <td>{'role': 'assistant', 'content': 'Certainly! B...</td>\n",
       "    </tr>\n",
       "    <tr>\n",
       "      <th>1</th>\n",
       "      <td>[{'role': 'system', 'content': '\n",
       "You are an ex...</td>\n",
       "      <td>{'role': 'assistant', 'content': '```tsx\n",
       "impor...</td>\n",
       "    </tr>\n",
       "    <tr>\n",
       "      <th>2</th>\n",
       "      <td>[{'role': 'system', 'content': '\n",
       "You are an ex...</td>\n",
       "      <td>{'role': 'assistant', 'content': '```tsx\n",
       "impor...</td>\n",
       "    </tr>\n",
       "    <tr>\n",
       "      <th>3</th>\n",
       "      <td>[{'role': 'system', 'content': '\n",
       "You are an ex...</td>\n",
       "      <td>{'role': 'assistant', 'content': '```tsx\n",
       "impor...</td>\n",
       "    </tr>\n",
       "    <tr>\n",
       "      <th>4</th>\n",
       "      <td>[{'role': 'system', 'content': '\n",
       "You are an ex...</td>\n",
       "      <td>{'role': 'assistant', 'content': 'Certainly! B...</td>\n",
       "    </tr>\n",
       "  </tbody>\n",
       "</table>\n",
       "</div>"
      ],
      "text/plain": [
       "                                            messages  \\\n",
       "0  [{'role': 'system', 'content': '\n",
       "You are an ex...   \n",
       "1  [{'role': 'system', 'content': '\n",
       "You are an ex...   \n",
       "2  [{'role': 'system', 'content': '\n",
       "You are an ex...   \n",
       "3  [{'role': 'system', 'content': '\n",
       "You are an ex...   \n",
       "4  [{'role': 'system', 'content': '\n",
       "You are an ex...   \n",
       "\n",
       "                                                code  \n",
       "0  {'role': 'assistant', 'content': 'Certainly! B...  \n",
       "1  {'role': 'assistant', 'content': '```tsx\n",
       "impor...  \n",
       "2  {'role': 'assistant', 'content': '```tsx\n",
       "impor...  \n",
       "3  {'role': 'assistant', 'content': '```tsx\n",
       "impor...  \n",
       "4  {'role': 'assistant', 'content': 'Certainly! B...  "
      ]
     },
     "execution_count": 13,
     "metadata": {},
     "output_type": "execute_result"
    }
   ],
   "source": [
    "temp.head()"
   ]
  },
  {
   "cell_type": "code",
   "execution_count": 19,
   "id": "1e032a0d",
   "metadata": {},
   "outputs": [],
   "source": [
    "synthetic_dataset[\"user prompt\"] = temp[\"messages\"].apply(lambda x: x[1])"
   ]
  },
  {
   "cell_type": "code",
   "execution_count": 21,
   "id": "88d6f5d1",
   "metadata": {},
   "outputs": [],
   "source": [
    "synthetic_dataset[\"user prompt\"] = synthetic_dataset[\"user prompt\"].apply(\n",
    "    lambda x: x[\"content\"]\n",
    ")"
   ]
  },
  {
   "cell_type": "code",
   "execution_count": 25,
   "id": "6f657cce",
   "metadata": {},
   "outputs": [],
   "source": [
    "synthetic_dataset[\"code\"] = temp[\"code\"].apply(\n",
    "    lambda x: x[\"content\"].split(\"```tsx\\n\")[1]\n",
    "    if len(x[\"content\"].split(\"```tsx\")) > 1\n",
    "    else x[\"content\"].split(\"```tsx\\n\")[0]\n",
    ")"
   ]
  },
  {
   "cell_type": "code",
   "execution_count": 28,
   "id": "1a409085",
   "metadata": {},
   "outputs": [],
   "source": [
    "synthetic_dataset[\"code\"] = synthetic_dataset[\"code\"].apply(\n",
    "    lambda x: x.split(\"\\n```\")[0]\n",
    ")"
   ]
  },
  {
   "cell_type": "code",
   "execution_count": 30,
   "id": "4a40d183",
   "metadata": {},
   "outputs": [],
   "source": [
    "synthetic_dataset.to_parquet(\"synthetic_dataset.parquet\")"
   ]
  },
  {
   "cell_type": "code",
   "execution_count": null,
   "id": "76adb540",
   "metadata": {},
   "outputs": [],
   "source": []
  }
 ],
 "metadata": {
  "kernelspec": {
   "display_name": ".venv",
   "language": "python",
   "name": "python3"
  },
  "language_info": {
   "codemirror_mode": {
    "name": "ipython",
    "version": 3
   },
   "file_extension": ".py",
   "mimetype": "text/x-python",
   "name": "python",
   "nbconvert_exporter": "python",
   "pygments_lexer": "ipython3",
   "version": "3.11.9"
  }
 },
 "nbformat": 4,
 "nbformat_minor": 5
}
